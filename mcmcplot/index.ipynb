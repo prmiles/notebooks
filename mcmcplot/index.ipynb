{
 "cells": [
  {
   "cell_type": "markdown",
   "metadata": {},
   "source": [
    "# Getting Started With `mcmcplot`\n",
    "Author(s): Paul Miles | August 7, 2018\n",
    "\n",
    "### Introduction\n",
    "The [mcmcplot](https://prmiles.wordpress.ncsu.edu/codes/python-packages/mcmcplot/) package is designed to assist in the analysis of sampling chains gathered during a Markov Chain Monte Carlo (MCMC) simulation.  This package was designed with the MCMC code [pymcmcstat](http://pymcmcstat.readthedocs.io/) in mind; however, the plotting routines are amenable to other data sets.  The plotting routines use [matplotlib](https://matplotlib.org/) and [seaborn](https://seaborn.pydata.org/).  User's are recommended to investigate other plotting routines available in [seaborn](https://seaborn.pydata.org/) as it is specifically designed for this sort of analysis.  The routines available in [mcmcplot](https://prmiles.wordpress.ncsu.edu/codes/python-packages/mcmcplot/) serve as a useful wrapper function for several [seaborn](https://seaborn.pydata.org/) plots, but it is not an exhaustive demonstration.\n",
    "\n",
    "### Installation\n",
    "The code can be found on the [Github project page](https://github.com/prmiles/mcmcplot).  The package is available on the PyPI distribution site and the latest version can be installed via\n",
    "```python\n",
    "pip install mcmcplot\n",
    "```\n",
    "The master branch typically matches the latest version on the PyPI distribution site.  To install the master branch directly from Github,\n",
    "```python\n",
    "pip install git+https://github.com/prmiles/mcmcplot.git\n",
    "```\n",
    "You can also clone the repository and run `python setup.py install`."
   ]
  },
  {
   "cell_type": "markdown",
   "metadata": {},
   "source": [
    "### Basic Examples\n",
    "The following examples demonstrate how to plot a set of randomly generated chains.  For physically motivated examples, see the [pymcmcstat tutorials](https://nbviewer.jupyter.org/github/prmiles/notebooks/blob/master/pymcmcstat/index.ipynb).\n",
    "\n",
    "---\n",
    "[<img src=\"basic_matplotlib_routines/basic_chain_panel.png\" style=\"width: 350px; float: right;\">](https://nbviewer.jupyter.org/github/prmiles/notebooks/blob/master/mcmcplot/matplotlib_routines/chain_panel.ipynb)\n",
    "### [Chain Panel](https://nbviewer.jupyter.org/github/prmiles/notebooks/blob/master/mcmcplot/matplotlib_routines/chain_panel.ipynb)\n",
    "Key Features:\n",
    "- Basic chain panel plotting.\n",
    "- Adding lines for mean and $\\pm$ 2 standard deviations.\n",
    "- Defining parameter names and editing plot appearance using settings.\n",
    "- Manually editing plot features.\n",
    "\n",
    "<br>\n",
    "<br>\n",
    "<br>"
   ]
  },
  {
   "cell_type": "code",
   "execution_count": null,
   "metadata": {},
   "outputs": [],
   "source": []
  }
 ],
 "metadata": {
  "kernelspec": {
   "display_name": "Python 3",
   "language": "python",
   "name": "python3"
  },
  "language_info": {
   "codemirror_mode": {
    "name": "ipython",
    "version": 3
   },
   "file_extension": ".py",
   "mimetype": "text/x-python",
   "name": "python",
   "nbconvert_exporter": "python",
   "pygments_lexer": "ipython3",
   "version": "3.6.6"
  }
 },
 "nbformat": 4,
 "nbformat_minor": 2
}
