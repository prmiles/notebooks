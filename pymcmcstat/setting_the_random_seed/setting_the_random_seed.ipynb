{
 "cells": [
  {
   "cell_type": "markdown",
   "metadata": {},
   "source": [
    "# Setting the Random Seed\n",
    "Author(s): Paul Miles | Date: June 19, 2018\n",
    "\n",
    "For the purpose of testing the MCMC simulation on a particular problem, it may be useful to check whether the results are repeatable.  This can be accomplished by setting the seed for the random number generator used within `pymcmcstat`.  This tutorial outlines how to accomplish this, and demonstrates the repeatability of the results."
   ]
  },
  {
   "cell_type": "markdown",
   "metadata": {},
   "source": [
    "First we import the required packages, define our model/sum-of-squares functions, and define a data set."
   ]
  },
  {
   "cell_type": "code",
   "execution_count": 9,
   "metadata": {},
   "outputs": [],
   "source": [
    "import numpy as np\n",
    "from pymcmcstat.MCMC import MCMC\n",
    "\n",
    "# define test model function\n",
    "def test_modelfun(xdata, theta):\n",
    "    m = theta[0]\n",
    "    b = theta[1]\n",
    "    nrow, ncol = xdata.shape\n",
    "    y = np.zeros([nrow,1])\n",
    "    y[:,0] = m*xdata.reshape(nrow,) + b\n",
    "    return y\n",
    "\n",
    "def test_ssfun(theta, data):\n",
    "    xdata = data.xdata[0]\n",
    "    ydata = data.ydata[0]\n",
    "    # eval model\n",
    "    ymodel = test_modelfun(xdata, theta)\n",
    "    # calc sos\n",
    "    ss = sum((ymodel[:,0] - ydata[:,0])**2)\n",
    "    return ss\n",
    "\n",
    "# define data\n",
    "nds = 100\n",
    "x = np.linspace(2, 3, num=nds)\n",
    "y = 2.*x + 3. + 0.1*np.random.standard_normal(x.shape)"
   ]
  },
  {
   "cell_type": "markdown",
   "metadata": {},
   "source": [
    "### Initialize MCMC object and set seed\n",
    "By default, no seed is specifield.  To specify a seed simply define a numeric value for the keywork argument `rngseed`."
   ]
  },
  {
   "cell_type": "code",
   "execution_count": 14,
   "metadata": {},
   "outputs": [],
   "source": [
    "# Initialize MCMC object\n",
    "mcstat = MCMC(rngseed=1234)"
   ]
  },
  {
   "cell_type": "markdown",
   "metadata": {},
   "source": [
    "### Setup and run rest of simulation\n",
    "We set the\n",
    "- data\n",
    "- simulation options\n",
    "- model settings\n",
    "- model parameters\n",
    "\n",
    "just like we would for any other simulation."
   ]
  },
  {
   "cell_type": "code",
   "execution_count": 15,
   "metadata": {},
   "outputs": [
    {
     "name": "stdout",
     "output_type": "stream",
     "text": [
      "\n",
      "Sampling these parameters:\n",
      "name         start [   min,    max] N(  mu, sigma^2)\n",
      "m         :   2.00 [-10.00,    inf] N(0.00, inf)\n",
      "b         :  -5.00 [-10.00, 100.00] N(0.00, inf)\n",
      " [-----------------100%-----------------] 5000 of 5000 complete in 1.1 sec"
     ]
    }
   ],
   "source": [
    "mcstat.data.add_data_set(x, y)\n",
    "mcstat.simulation_options.define_simulation_options(nsimu = int(5.0e3), updatesigma = 1, method = 'dram')\n",
    "\n",
    "# update model settings\n",
    "mcstat.model_settings.define_model_settings(sos_function = test_ssfun)\n",
    "\n",
    "mcstat.parameters.add_model_parameter(name = 'm', theta0 = 2., minimum = -10, maximum = np.inf, sample = 1)\n",
    "mcstat.parameters.add_model_parameter(name = 'b', theta0 = -5., minimum = -10, maximum = 100, sample = 1)\n",
    "\n",
    "# run mcmc\n",
    "mcstat.run_simulation()"
   ]
  },
  {
   "cell_type": "markdown",
   "metadata": {},
   "source": [
    "### Extract Results and Display Chainstats\n",
    "In addition, we check the last row of the chain to see where the simulation ended."
   ]
  },
  {
   "cell_type": "code",
   "execution_count": 16,
   "metadata": {},
   "outputs": [
    {
     "name": "stdout",
     "output_type": "stream",
     "text": [
      "\n",
      "---------------------\n",
      "name      :       mean        std     MC_err        tau     geweke\n",
      "m         :     1.9876     0.0352     0.0047   107.1916     0.9782\n",
      "b         :     3.0220     0.0891     0.0118   109.6284     0.9666\n",
      "---------------------\n",
      "chain[-1,:] = [1.95814523 3.1027293 ]\n"
     ]
    }
   ],
   "source": [
    "# Extract results\n",
    "results = mcstat.simulation_results.results\n",
    "\n",
    "chain = results['chain']\n",
    "s2chain = results['s2chain']\n",
    "sschain = results['sschain']\n",
    "\n",
    "names = results['names']\n",
    "\n",
    "# define burnin\n",
    "burnin = 2000\n",
    "# display chain statistics\n",
    "mcstat.chainstats(chain[burnin:,:], results)\n",
    "print('chain[-1,:] = {}'.format(chain[-1,:]))"
   ]
  },
  {
   "cell_type": "markdown",
   "metadata": {},
   "source": [
    "## Check Repeatability\n",
    "To check the repeatability we simply create a new MCMC object with the same random seed and compare the result."
   ]
  },
  {
   "cell_type": "code",
   "execution_count": 17,
   "metadata": {},
   "outputs": [
    {
     "name": "stdout",
     "output_type": "stream",
     "text": [
      "\n",
      "Sampling these parameters:\n",
      "name         start [   min,    max] N(  mu, sigma^2)\n",
      "m         :   2.00 [-10.00,    inf] N(0.00, inf)\n",
      "b         :  -5.00 [-10.00, 100.00] N(0.00, inf)\n",
      " [-----------------100%-----------------] 5000 of 5000 complete in 1.1 sec\n",
      "---------------------\n",
      "name      :       mean        std     MC_err        tau     geweke\n",
      "m         :     1.9876     0.0352     0.0047   107.1916     0.9782\n",
      "b         :     3.0220     0.0891     0.0118   109.6284     0.9666\n",
      "---------------------\n",
      "chain[-1,:] = [1.95814523 3.1027293 ]\n"
     ]
    }
   ],
   "source": [
    "# Initialize MCMC object\n",
    "mcstat = MCMC(rngseed=1234)\n",
    "\n",
    "mcstat.data.add_data_set(x, y)\n",
    "mcstat.simulation_options.define_simulation_options(nsimu = int(5.0e3), updatesigma = 1, method = 'dram')\n",
    "\n",
    "# update model settings\n",
    "mcstat.model_settings.define_model_settings(sos_function = test_ssfun)\n",
    "\n",
    "mcstat.parameters.add_model_parameter(name = 'm', theta0 = 2., minimum = -10, maximum = np.inf, sample = 1)\n",
    "mcstat.parameters.add_model_parameter(name = 'b', theta0 = -5., minimum = -10, maximum = 100, sample = 1)\n",
    "\n",
    "# run mcmc\n",
    "mcstat.run_simulation()\n",
    "\n",
    "# Extract results\n",
    "results = mcstat.simulation_results.results\n",
    "\n",
    "chain = results['chain']\n",
    "s2chain = results['s2chain']\n",
    "sschain = results['sschain']\n",
    "\n",
    "names = results['names']\n",
    "\n",
    "# define burnin\n",
    "burnin = 2000\n",
    "# display chain statistics\n",
    "mcstat.chainstats(chain[burnin:,:], results)\n",
    "print('chain[-1,:] = {}'.format(chain[-1,:]))"
   ]
  },
  {
   "cell_type": "markdown",
   "metadata": {},
   "source": [
    "It is clearly seen that the results are identical to the first simulation, so the random number process is repeatable."
   ]
  }
 ],
 "metadata": {
  "kernelspec": {
   "display_name": "Python 3",
   "language": "python",
   "name": "python3"
  },
  "language_info": {
   "codemirror_mode": {
    "name": "ipython",
    "version": 3
   },
   "file_extension": ".py",
   "mimetype": "text/x-python",
   "name": "python",
   "nbconvert_exporter": "python",
   "pygments_lexer": "ipython3",
   "version": "3.6.5"
  }
 },
 "nbformat": 4,
 "nbformat_minor": 2
}
