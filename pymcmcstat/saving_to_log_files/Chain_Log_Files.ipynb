{
 "cells": [
  {
   "cell_type": "markdown",
   "metadata": {},
   "source": [
    "# Save Chain to Log File\n",
    "Author(s): Paul Miles | Date: June 18, 2018\n",
    "\n",
    "Many models are time consuming to evaluate.  As MCMC simulations required many model evaluations, it can be useful to periodically save the chain elements to a file.  This can be useful for a variety of reasons:\n",
    "\n",
    "- Chain visualization while simulation continues to run.\n",
    "- Chain is saved in the event that simulation ends prematurely.  \n",
    "\n",
    "This is important when working on remote systems where you may have limited computation time.  This tutorial demonstrates the following:\n",
    "\n",
    "- How to specify a log file directory\n",
    "- Format to save log files in (binary or text)\n",
    "- How to read in log files for analysis"
   ]
  },
  {
   "cell_type": "markdown",
   "metadata": {},
   "source": [
    "## Run Simulation & Export to Log Files"
   ]
  },
  {
   "cell_type": "markdown",
   "metadata": {},
   "source": [
    "Import required paths."
   ]
  },
  {
   "cell_type": "code",
   "execution_count": 1,
   "metadata": {},
   "outputs": [],
   "source": [
    "import numpy as np\n",
    "from pymcmcstat.MCMC import MCMC\n",
    "from datetime import datetime"
   ]
  },
  {
   "cell_type": "markdown",
   "metadata": {},
   "source": [
    "Define a simple model and sum-of-squares function."
   ]
  },
  {
   "cell_type": "code",
   "execution_count": 2,
   "metadata": {},
   "outputs": [],
   "source": [
    "# define test model function\n",
    "def test_modelfun(xdata, theta):\n",
    "    m = theta[0]\n",
    "    b = theta[1]\n",
    "    nrow, ncol = xdata.shape\n",
    "    y = np.zeros([nrow,1])\n",
    "    y[:,0] = m*xdata.reshape(nrow,) + b\n",
    "    return y\n",
    "\n",
    "def test_ssfun(theta, data):\n",
    "    xdata = data.xdata[0]\n",
    "    ydata = data.ydata[0]\n",
    "    # eval model\n",
    "    ymodel = test_modelfun(xdata, theta)\n",
    "    # calc sos\n",
    "    ss = sum((ymodel[:,0] - ydata[:,0])**2)\n",
    "    return ss"
   ]
  },
  {
   "cell_type": "markdown",
   "metadata": {},
   "source": [
    "Initialize MCMC object:\n",
    "- Add data\n",
    "- Define model settings\n",
    "- Define model parameters"
   ]
  },
  {
   "cell_type": "code",
   "execution_count": 3,
   "metadata": {},
   "outputs": [],
   "source": [
    "# Initialize MCMC object\n",
    "mcset = MCMC()\n",
    "\n",
    "# Add data\n",
    "nds = 100\n",
    "x = np.linspace(2, 3, num=nds)\n",
    "y = 2.*x + 3. + 0.1*np.random.standard_normal(x.shape)\n",
    "mcset.data.add_data_set(x, y)\n",
    "\n",
    "# update model settings\n",
    "mcset.model_settings.define_model_settings(sos_function = test_ssfun)\n",
    "\n",
    "mcset.parameters.add_model_parameter(name = 'm', theta0 = 2., minimum = -10, maximum = np.inf, sample = 1)\n",
    "mcset.parameters.add_model_parameter(name = 'b', theta0 = -5., minimum = -10, maximum = 100, sample = 1)"
   ]
  },
  {
   "cell_type": "markdown",
   "metadata": {},
   "source": [
    "### Define log file directory and turn on flags in simulations options\n",
    "The following keyword arguments of the simulation options allow you to setup the log files.\n",
    "\n",
    "- `savedir`: Directory in which to store log files.  If not specified, but log files turned on, then saves to directory with naming convention 'YYYYMMDD_hhmmss_chain_log'.\n",
    "- `save_to_bin`: Save log files in binary format.  Uses `h5py` package for binary read/write.\n",
    "- `save_to_txt`: Save log files in text format.  Uses `numpy` package for text read/write.\n",
    "\n",
    "By default the feature is set to `False`.  You can save to either format or to both.  Regardless of what format is used to save the chain, a text log file will be included which appends a date/time stamp with corresponding chain indices.  This will be explained in more detail later."
   ]
  },
  {
   "cell_type": "code",
   "execution_count": 4,
   "metadata": {},
   "outputs": [],
   "source": [
    "datestr = datetime.now().strftime('%Y%m%d_%H%M%S')\n",
    "savedir = str('{}_{}'.format(datestr, 'serial_chain'))\n",
    "mcset.simulation_options.define_simulation_options(nsimu = int(5.0e4), updatesigma = 1, method = 'dram', \n",
    "                                                   savedir = savedir, savesize = 1000, save_to_json = True, \n",
    "                                                   verbosity = 0, waitbar = 0, save_to_txt = True, save_to_bin = True)"
   ]
  },
  {
   "cell_type": "markdown",
   "metadata": {},
   "source": [
    "## Run Simulation"
   ]
  },
  {
   "cell_type": "code",
   "execution_count": 5,
   "metadata": {},
   "outputs": [
    {
     "name": "stderr",
     "output_type": "stream",
     "text": [
      "/Users/prmiles/anaconda3/envs/pypi_pymcmcstat/lib/python3.6/site-packages/pymcmcstat/samplers/DelayedRejection.py:138: RuntimeWarning: overflow encountered in exp\n",
      "  alpha = min(np.ones(1), np.exp(y)*a2*(a1**(-1)))\n"
     ]
    }
   ],
   "source": [
    "mcset.run_simulation()"
   ]
  },
  {
   "cell_type": "markdown",
   "metadata": {},
   "source": [
    "# Process Simulation\n",
    "At this point, the simulation is either running, or has completed running.  You will observe a folder in the working directory that matches the input argument for `savedir`."
   ]
  },
  {
   "cell_type": "code",
   "execution_count": 17,
   "metadata": {},
   "outputs": [
    {
     "name": "stdout",
     "output_type": "stream",
     "text": [
      "\u001b[34m20180618_143711_serial_chain\u001b[m\u001b[m/ process_bins.py\r\n",
      "Chain_Log_Files.ipynb         saving_chains_to_bins.py\r\n"
     ]
    }
   ],
   "source": [
    "ls"
   ]
  },
  {
   "cell_type": "markdown",
   "metadata": {},
   "source": [
    "We observe that the folder `20180618_143711_serial_chain` matches what was specified for `savedir` and display its contents"
   ]
  },
  {
   "cell_type": "code",
   "execution_count": 8,
   "metadata": {},
   "outputs": [
    {
     "name": "stdout",
     "output_type": "stream",
     "text": [
      "20180618_143711_mcmc_simulation.json  s2chainfile.h5\r\n",
      "binlogfile.txt                        s2chainfile.txt\r\n",
      "chainfile.h5                          sschainfile.h5\r\n",
      "chainfile.txt                         sschainfile.txt\r\n",
      "covchainfile.h5                       txtlogfile.txt\r\n",
      "covchainfile.txt\r\n"
     ]
    }
   ],
   "source": [
    "ls 20180618_143711_serial_chain/"
   ]
  },
  {
   "cell_type": "markdown",
   "metadata": {},
   "source": [
    "As expected, there are log files saved in both binary (h5) and text (txt) format."
   ]
  },
  {
   "cell_type": "markdown",
   "metadata": {},
   "source": [
    "### Processing the log files\n",
    "We start by importing several modules from the `pymcmcstat` package.  We note that this operation should be done from a separate script file, and possibly from a separate computer.  For example, if running a long simulation on a remote server, you can periodically copy the log files from the remote server and analyze the chains on your local machine."
   ]
  },
  {
   "cell_type": "code",
   "execution_count": 9,
   "metadata": {},
   "outputs": [],
   "source": [
    "from pymcmcstat.chain import ChainProcessing as CP\n",
    "from pymcmcstat.chain.ChainStatistics import chainstats\n",
    "from pymcmcstat.plotting.MCMCPlotting import Plot\n",
    "import time"
   ]
  },
  {
   "cell_type": "markdown",
   "metadata": {},
   "source": [
    "We initialize the plotting class and define the directory in which to find the log files."
   ]
  },
  {
   "cell_type": "code",
   "execution_count": 10,
   "metadata": {},
   "outputs": [],
   "source": [
    "# Initialize classes\n",
    "MCP = Plot()\n",
    "# define directory where log files are saved\n",
    "savedir = '20180618_143711_serial_chain'\n",
    "# For testing purposes we can repeatedly read in the data to see how binary versus text is processed.\n",
    "ns = 10"
   ]
  },
  {
   "cell_type": "markdown",
   "metadata": {},
   "source": [
    "Read in binary data files and print amount of time it takes to process."
   ]
  },
  {
   "cell_type": "code",
   "execution_count": 11,
   "metadata": {},
   "outputs": [
    {
     "name": "stdout",
     "output_type": "stream",
     "text": [
      "Binary: 0.06263847351074218 sec\n",
      "\n"
     ]
    }
   ],
   "source": [
    "start = time.time()\n",
    "for ii in range(ns):\n",
    "    results = CP.read_in_savedir_files(savedir, extension = 'h5')\n",
    "    \n",
    "end = time.time()\n",
    "binary_time = end - start\n",
    "print('Binary: {} sec\\n'.format(binary_time/ns))"
   ]
  },
  {
   "cell_type": "code",
   "execution_count": 12,
   "metadata": {},
   "outputs": [
    {
     "name": "stdout",
     "output_type": "stream",
     "text": [
      "Text: 0.4247788906097412 sec\n",
      "\n"
     ]
    }
   ],
   "source": [
    "start = time.time()\n",
    "for ii in range(ns):\n",
    "    results = CP.read_in_savedir_files(savedir, extension = 'txt')\n",
    "    \n",
    "end = time.time()\n",
    "text_time = end - start\n",
    "print('Text: {} sec\\n'.format(text_time/ns))"
   ]
  },
  {
   "cell_type": "markdown",
   "metadata": {},
   "source": [
    "It is clearly seen that the binary files are more quickly processed.  In either case, the results extracted from the log files are identical, and we can proceed with the analysis."
   ]
  },
  {
   "cell_type": "markdown",
   "metadata": {},
   "source": [
    "## Analysis\n",
    "We extract the following from the results dictionary:\n",
    "- `chain`: Sampling chain for model parameters\n",
    "- `s2chain`: Observation error chain\n",
    "- `sschain`: Sum-of-squares error corresponding to each row of `chain`."
   ]
  },
  {
   "cell_type": "code",
   "execution_count": 13,
   "metadata": {},
   "outputs": [],
   "source": [
    "chain = results['chain']\n",
    "s2chain = results['s2chain']\n",
    "sschain = results['sschain']"
   ]
  },
  {
   "cell_type": "markdown",
   "metadata": {},
   "source": [
    "We define the burn-in period for the chain as half the simulation run time.  Display statistics for burned-in portion of chain."
   ]
  },
  {
   "cell_type": "code",
   "execution_count": 14,
   "metadata": {},
   "outputs": [
    {
     "name": "stdout",
     "output_type": "stream",
     "text": [
      "\n",
      "---------------------\n",
      "name      :       mean        std     MC_err        tau     geweke\n",
      "$p_{0}$   :     1.9812     0.0344     0.0008    38.9007     0.9996\n",
      "$p_{1}$   :     3.0683     0.0864     0.0020    38.7652     0.9992\n",
      "---------------------\n"
     ]
    }
   ],
   "source": [
    "# define burnin\n",
    "nsimu = chain.shape[0]\n",
    "burnin = int(nsimu/2)\n",
    "# display chain statistics\n",
    "stats = chainstats(chain[burnin:,:], returnstats = True)"
   ]
  },
  {
   "cell_type": "markdown",
   "metadata": {},
   "source": [
    "## Plot Chain\n",
    "- Chain panel\n",
    "- pairwise correlation"
   ]
  },
  {
   "cell_type": "code",
   "execution_count": 15,
   "metadata": {},
   "outputs": [
    {
     "data": {
      "image/png": "[encoded data removed]",
      "text/plain": [
       "<Figure size 300x300 with 2 Axes>"
      ]
     },
     "metadata": {},
     "output_type": "display_data"
    },
    {
     "data": {
      "image/png": "[encoded data removed]",
      "text/plain": [
       "<Figure size 300x300 with 1 Axes>"
      ]
     },
     "metadata": {},
     "output_type": "display_data"
    }
   ],
   "source": [
    "MCP.plot_chain_panel(chain[burnin:,:], figsizeinches = (3,3));\n",
    "MCP.plot_pairwise_correlation_panel(chain[burnin:,:], figsizeinches = (3,3));"
   ]
  },
  {
   "cell_type": "markdown",
   "metadata": {},
   "source": [
    "## Print log files\n",
    "Log files display a date/time stamp associated with when chain segments were appended to the correponding log file.\n",
    "\n",
    "| Date    | Time | Start | End |\n",
    "|--------------|---------|---------|---------|\n",
    "|2018-06-18| 14:37:11|\t0|\t999|\n",
    "|2018-06-18| 14:37:12|\t1000|\t1999|\n",
    "|2018-06-18| 14:37:12|\t2000|\t2999|\n",
    "|2018-06-18| 14:37:12|\t3000|\t3999|\n",
    "|2018-06-18| 14:37:12|\t4000|\t4999|\n",
    "|2018-06-18| 14:37:13|\t5000|\t5999|\n",
    "\n"
   ]
  },
  {
   "cell_type": "code",
   "execution_count": 16,
   "metadata": {},
   "outputs": [
    {
     "name": "stdout",
     "output_type": "stream",
     "text": [
      "--------------------------\n",
      "Display log file: 20180618_143711_serial_chain/binlogfile.txt\n",
      "2018-06-18 14:37:11\t0\t999\n",
      "2018-06-18 14:37:12\t1000\t1999\n",
      "2018-06-18 14:37:12\t2000\t2999\n",
      "2018-06-18 14:37:12\t3000\t3999\n",
      "2018-06-18 14:37:12\t4000\t4999\n",
      "2018-06-18 14:37:13\t5000\t5999\n",
      "2018-06-18 14:37:13\t6000\t6999\n",
      "2018-06-18 14:37:13\t7000\t7999\n",
      "2018-06-18 14:37:13\t8000\t8999\n",
      "2018-06-18 14:37:13\t9000\t9999\n",
      "2018-06-18 14:37:14\t10000\t10999\n",
      "2018-06-18 14:37:14\t11000\t11999\n",
      "2018-06-18 14:37:14\t12000\t12999\n",
      "2018-06-18 14:37:14\t13000\t13999\n",
      "2018-06-18 14:37:15\t14000\t14999\n",
      "2018-06-18 14:37:15\t15000\t15999\n",
      "2018-06-18 14:37:15\t16000\t16999\n",
      "2018-06-18 14:37:15\t17000\t17999\n",
      "2018-06-18 14:37:15\t18000\t18999\n",
      "2018-06-18 14:37:16\t19000\t19999\n",
      "2018-06-18 14:37:16\t20000\t20999\n",
      "2018-06-18 14:37:16\t21000\t21999\n",
      "2018-06-18 14:37:16\t22000\t22999\n",
      "2018-06-18 14:37:17\t23000\t23999\n",
      "2018-06-18 14:37:17\t24000\t24999\n",
      "2018-06-18 14:37:17\t25000\t25999\n",
      "2018-06-18 14:37:17\t26000\t26999\n",
      "2018-06-18 14:37:18\t27000\t27999\n",
      "2018-06-18 14:37:18\t28000\t28999\n",
      "2018-06-18 14:37:18\t29000\t29999\n",
      "2018-06-18 14:37:18\t30000\t30999\n",
      "2018-06-18 14:37:18\t31000\t31999\n",
      "2018-06-18 14:37:19\t32000\t32999\n",
      "2018-06-18 14:37:19\t33000\t33999\n",
      "2018-06-18 14:37:19\t34000\t34999\n",
      "2018-06-18 14:37:19\t35000\t35999\n",
      "2018-06-18 14:37:20\t36000\t36999\n",
      "2018-06-18 14:37:20\t37000\t37999\n",
      "2018-06-18 14:37:20\t38000\t38999\n",
      "2018-06-18 14:37:20\t39000\t39999\n",
      "2018-06-18 14:37:20\t40000\t40999\n",
      "2018-06-18 14:37:21\t41000\t41999\n",
      "2018-06-18 14:37:21\t42000\t42999\n",
      "2018-06-18 14:37:21\t43000\t43999\n",
      "2018-06-18 14:37:21\t44000\t44999\n",
      "2018-06-18 14:37:22\t45000\t45999\n",
      "2018-06-18 14:37:22\t46000\t46999\n",
      "2018-06-18 14:37:22\t47000\t47999\n",
      "2018-06-18 14:37:22\t48000\t48999\n",
      "2018-06-18 14:37:23\t49000\t49999\n",
      "\n",
      "--------------------------\n",
      "\n",
      "--------------------------\n",
      "Display log file: 20180618_143711_serial_chain/txtlogfile.txt\n",
      "2018-06-18 14:37:11\t0\t999\n",
      "2018-06-18 14:37:12\t1000\t1999\n",
      "2018-06-18 14:37:12\t2000\t2999\n",
      "2018-06-18 14:37:12\t3000\t3999\n",
      "2018-06-18 14:37:12\t4000\t4999\n",
      "2018-06-18 14:37:13\t5000\t5999\n",
      "2018-06-18 14:37:13\t6000\t6999\n",
      "2018-06-18 14:37:13\t7000\t7999\n",
      "2018-06-18 14:37:13\t8000\t8999\n",
      "2018-06-18 14:37:13\t9000\t9999\n",
      "2018-06-18 14:37:14\t10000\t10999\n",
      "2018-06-18 14:37:14\t11000\t11999\n",
      "2018-06-18 14:37:14\t12000\t12999\n",
      "2018-06-18 14:37:14\t13000\t13999\n",
      "2018-06-18 14:37:15\t14000\t14999\n",
      "2018-06-18 14:37:15\t15000\t15999\n",
      "2018-06-18 14:37:15\t16000\t16999\n",
      "2018-06-18 14:37:15\t17000\t17999\n",
      "2018-06-18 14:37:15\t18000\t18999\n",
      "2018-06-18 14:37:16\t19000\t19999\n",
      "2018-06-18 14:37:16\t20000\t20999\n",
      "2018-06-18 14:37:16\t21000\t21999\n",
      "2018-06-18 14:37:16\t22000\t22999\n",
      "2018-06-18 14:37:17\t23000\t23999\n",
      "2018-06-18 14:37:17\t24000\t24999\n",
      "2018-06-18 14:37:17\t25000\t25999\n",
      "2018-06-18 14:37:17\t26000\t26999\n",
      "2018-06-18 14:37:18\t27000\t27999\n",
      "2018-06-18 14:37:18\t28000\t28999\n",
      "2018-06-18 14:37:18\t29000\t29999\n",
      "2018-06-18 14:37:18\t30000\t30999\n",
      "2018-06-18 14:37:18\t31000\t31999\n",
      "2018-06-18 14:37:19\t32000\t32999\n",
      "2018-06-18 14:37:19\t33000\t33999\n",
      "2018-06-18 14:37:19\t34000\t34999\n",
      "2018-06-18 14:37:19\t35000\t35999\n",
      "2018-06-18 14:37:20\t36000\t36999\n",
      "2018-06-18 14:37:20\t37000\t37999\n",
      "2018-06-18 14:37:20\t38000\t38999\n",
      "2018-06-18 14:37:20\t39000\t39999\n",
      "2018-06-18 14:37:21\t40000\t40999\n",
      "2018-06-18 14:37:21\t41000\t41999\n",
      "2018-06-18 14:37:21\t42000\t42999\n",
      "2018-06-18 14:37:21\t43000\t43999\n",
      "2018-06-18 14:37:21\t44000\t44999\n",
      "2018-06-18 14:37:22\t45000\t45999\n",
      "2018-06-18 14:37:22\t46000\t46999\n",
      "2018-06-18 14:37:22\t47000\t47999\n",
      "2018-06-18 14:37:22\t48000\t48999\n",
      "2018-06-18 14:37:23\t49000\t49999\n",
      "\n",
      "--------------------------\n",
      "\n"
     ]
    }
   ],
   "source": [
    "CP.print_log_files(savedir)"
   ]
  }
 ],
 "metadata": {
  "kernelspec": {
   "display_name": "Python 3",
   "language": "python",
   "name": "python3"
  },
  "language_info": {
   "codemirror_mode": {
    "name": "ipython",
    "version": 3
   },
   "file_extension": ".py",
   "mimetype": "text/x-python",
   "name": "python",
   "nbconvert_exporter": "python",
   "pygments_lexer": "ipython3",
   "version": "3.6.6"
  }
 },
 "nbformat": 4,
 "nbformat_minor": 2
}
