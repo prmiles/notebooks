{
 "cells": [
  {
   "cell_type": "markdown",
   "metadata": {},
   "source": [
    "# Getting Started with [pyfod](https://github.com/prmiles/pyfod/wiki)\n",
    "Author(s): Paul R. Miles, Graham T. Pash | April 8, 2019\n",
    "# Introduction\n",
    "The [pyfod](https://github.com/prmiles/pyfod/wiki) package is a Python program for numerically approximating fractional order derivatives (fod).  The definitions available within the package include:\n",
    "\n",
    "- Riemann-Liouville\n",
    "$$\n",
    "D_{RL}^\\alpha[f(t)] = \\frac{1}{\\Gamma(n-\\alpha)}\\frac{d^n}{dt^n}\\int_{t_0}^{t_f}\\frac{f(s)}{(t_f-s)^\\alpha}ds \\;\\; \\text{where} \\;\\; n=\\lceil\\alpha\\rceil.\n",
    "$$\n",
    "- Caputo\n",
    "$$\n",
    "D_C^\\alpha[f(t)] = \\frac{1}{\\Gamma(n-\\alpha)}\\int_{t_0}^{t_f}\\frac{f^{(n)}(s)}{(t_f-s)^\\alpha}ds \\;\\; \\text{where} \\;\\; n=\\lceil\\alpha\\rceil.\n",
    "$$\n",
    "- Grünwald-Letnikov\n",
    "$$\n",
    "D_G^\\alpha [f(t)]=\\lim_{h\\rightarrow 0} \\frac{1}{h^\\alpha}\\sum_{0\\leq m< \\infty}(-1)^m{\\scriptsize\\left(\\begin{array}{c}\\alpha\\\\m\\end{array}\\right)}f(t-mh).\n",
    "$$\n",
    "\n",
    "**Note:** At this time, the Riemann-Liouville definition is limited to cases where $\\alpha \\in [0, 1)$.\n",
    "\n",
    "# Installation\n",
    "This code can be found on the [Github project page](https://github.com/prmiles/pyfod).  To install the master branch directly from Github,\n",
    "\n",
    "```\n",
    "    pip install git+https://github.com/prmiles/pyfod.git\n",
    "```\n",
    "**Note:** Current examples generated using development branch of repository.\n",
    "\n",
    "\n",
    "# General Examples\n",
    "The following general examples demonstrate how to evaluate the following fractional derivative definitions:\n",
    "- [Riemann-Liouville](https://nbviewer.jupyter.org/github/prmiles/notebooks/blob/master/pyfod/riemann_liouville.ipynb)\n",
    "- Caputo (Pending)\n",
    "- Grünwald-Letnikov (Pending)"
   ]
  }
 ],
 "metadata": {
  "kernelspec": {
   "display_name": "Python 3",
   "language": "python",
   "name": "python3"
  },
  "language_info": {
   "codemirror_mode": {
    "name": "ipython",
    "version": 3
   },
   "file_extension": ".py",
   "mimetype": "text/x-python",
   "name": "python",
   "nbconvert_exporter": "python",
   "pygments_lexer": "ipython3",
   "version": "3.6.8"
  },
  "latex_envs": {
   "LaTeX_envs_menu_present": true,
   "autoclose": false,
   "autocomplete": true,
   "bibliofile": "biblio.bib",
   "cite_by": "apalike",
   "current_citInitial": 1,
   "eqLabelWithNumbers": true,
   "eqNumInitial": 1,
   "hotkeys": {
    "equation": "Ctrl-E",
    "itemize": "Ctrl-I"
   },
   "labels_anchors": false,
   "latex_user_defs": false,
   "report_style_numbering": true,
   "user_envs_cfg": false
  },
  "toc": {
   "base_numbering": 1,
   "nav_menu": {},
   "number_sections": true,
   "sideBar": false,
   "skip_h1_title": false,
   "title_cell": "Table of Contents",
   "title_sidebar": "Contents",
   "toc_cell": false,
   "toc_position": {
    "height": "calc(100% - 180px)",
    "left": "10px",
    "top": "150px",
    "width": "165px"
   },
   "toc_section_display": true,
   "toc_window_display": true
  }
 },
 "nbformat": 4,
 "nbformat_minor": 2
}
